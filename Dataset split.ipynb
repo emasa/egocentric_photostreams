{
 "cells": [
  {
   "cell_type": "markdown",
   "metadata": {
    "collapsed": false
   },
   "source": [
    "# Dataset split"
   ]
  },
  {
   "cell_type": "code",
   "execution_count": 5,
   "metadata": {
    "collapsed": true
   },
   "outputs": [],
   "source": [
    "from __future__ import division\n",
    "\n",
    "import numpy as np\n",
    "import ntcir\n",
    "import ntcir.IO as IO\n",
    "import os\n",
    "import os.path as osp\n",
    "import itertools\n",
    "import utils\n",
    "import shutil\n",
    "from collections import defaultdict\n",
    "from easydict import EasyDict as edict"
   ]
  },
  {
   "cell_type": "code",
   "execution_count": 6,
   "metadata": {
    "collapsed": false
   },
   "outputs": [],
   "source": [
    "users = IO.load_annotations(ntcir.filepaths)\n",
    "sorted_users = ntcir.utils.sort(users)\n",
    "categories = IO.load_categories(ntcir.filepaths)\n",
    "users_ids = sorted(users.keys())\n",
    "\n",
    "days = defaultdict(lambda: defaultdict(ntcir.Day))\n",
    "for user in sorted_users:\n",
    "    for day in user.days:\n",
    "        days[user.id_][day.date] = day\n",
    "\n",
    "splits = edict({'train': 0, 'validation': 1, 'test': 2})"
   ]
  },
  {
   "cell_type": "markdown",
   "metadata": {
    "collapsed": false
   },
   "source": [
    "# Classification dataset split"
   ]
  },
  {
   "cell_type": "code",
   "execution_count": 7,
   "metadata": {
    "collapsed": false
   },
   "outputs": [],
   "source": [
    "images = defaultdict(list)\n",
    "targets = defaultdict(list)\n",
    "for user in sorted_users:\n",
    "    for day in user.days:\n",
    "        for img in day.images:\n",
    "            images[user.id_].append(img)\n",
    "            targets[user.id_].append(img.label)"
   ]
  },
  {
   "cell_type": "code",
   "execution_count": 8,
   "metadata": {
    "collapsed": false
   },
   "outputs": [
    {
     "name": "stderr",
     "output_type": "stream",
     "text": [
      "/usr/local/lib/python2.7/dist-packages/sklearn/model_selection/_split.py:581: Warning: The least populated class in y has only 2 members, which is too few. The minimum number of groups for any class cannot be less than n_splits=10.\n",
      "  % (min_groups, self.n_splits)), Warning)\n"
     ]
    }
   ],
   "source": [
    "from sklearn.model_selection import StratifiedKFold\n",
    "from sklearn.model_selection import StratifiedShuffleSplit\n",
    "\n",
    "folds = defaultdict(lambda: defaultdict(dict))\n",
    "\n",
    "skf = StratifiedKFold(n_splits=10, random_state=42, shuffle=True)\n",
    "sss = StratifiedShuffleSplit(n_splits=1, test_size=0.111111, random_state=42)\n",
    "for user_id in users_ids:\n",
    "    for i, (training_index, test_index) in enumerate(skf.split(images[user_id], targets[user_id])):\n",
    "        training_targets = [images[user_id][j].label for j in training_index]\n",
    "\n",
    "        # Compensating number of training examples\n",
    "        orig_num_train_targets = len(training_targets)\n",
    "        counts = np.bincount(training_targets)\n",
    "        less_than_two_indices = np.nonzero(counts < 2)[0]\n",
    "        for ind in less_than_two_indices:\n",
    "            for j in range(2 - counts[ind]):\n",
    "                training_targets.append(ind)\n",
    "\n",
    "        train_index, val_index = sss.split(np.zeros(len(training_targets)), training_targets).next()\n",
    "        folds[i][user_id][splits.train] = [images[user_id][j] for j in train_index if j < orig_num_train_targets]\n",
    "        folds[i][user_id][splits.validation] = [images[user_id][j] for j in val_index if j < orig_num_train_targets]\n",
    "        folds[i][user_id][splits.test] = [images[user_id][j] for j in test_index]"
   ]
  },
  {
   "cell_type": "code",
   "execution_count": 9,
   "metadata": {
    "collapsed": false
   },
   "outputs": [],
   "source": [
    "num_categories = len(categories)\n",
    "num_images = sum([u.num_images for u in sorted_users])\n",
    "padding_zeros = utils.num_digits(num_images)\n",
    "\n",
    "for i, fold in enumerate(folds.itervalues()):\n",
    "\n",
    "    split = [[], [], []]\n",
    "    for user_id, split_ind in itertools.product(users_ids, splits.itervalues()):\n",
    "        split[split_ind].extend(fold[user_id][split_ind])\n",
    "\n",
    "    for split_name, split_id in splits.iteritems():\n",
    "\n",
    "        split_dir = osp.join('data', 'static', str(i + 1).zfill(2), split_name)\n",
    "        if os.path.isdir(split_dir):\n",
    "            shutil.rmtree(split_dir)\n",
    "\n",
    "        for j in xrange(num_categories):\n",
    "            category = str(j).zfill(utils.num_digits(num_categories))\n",
    "            category_dir = os.path.join(split_dir, category)\n",
    "            utils.makedirs(category_dir)\n",
    "\n",
    "        targets = list()\n",
    "        img_paths = list()\n",
    "        for image in split[split_id]:\n",
    "            targets.append(image.label)\n",
    "            img_paths.append(image.path)\n",
    "\n",
    "        utils.link_images(num_categories, split_dir, padding_zeros, targets, img_paths)"
   ]
  },
  {
   "cell_type": "code",
   "execution_count": null,
   "metadata": {
    "collapsed": true
   },
   "outputs": [],
   "source": []
  }
 ],
 "metadata": {
  "kernelspec": {
   "display_name": "Python 2",
   "language": "python",
   "name": "python2"
  },
  "language_info": {
   "codemirror_mode": {
    "name": "ipython",
    "version": 2
   },
   "file_extension": ".py",
   "mimetype": "text/x-python",
   "name": "python",
   "nbconvert_exporter": "python",
   "pygments_lexer": "ipython2",
   "version": "2.7.12"
  }
 },
 "nbformat": 4,
 "nbformat_minor": 1
}
